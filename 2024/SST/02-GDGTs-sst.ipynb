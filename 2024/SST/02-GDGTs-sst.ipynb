{
 "cells": [
  {
   "cell_type": "markdown",
   "id": "5e21896b",
   "metadata": {},
   "source": [
    "# Gabarito\n",
    "\n",
    "## Aula 02: GDGTs\n",
    "\n",
    "Baseado nos dados do artigo de Ceccopieri et al. (2018) - https://doi.org/10.1016/j.orggeochem.2018.10.009\n",
    "\n",
    "Objetivos\n",
    "1. Ler os dados do https://doi.pangaea.de/10.1594/PANGAEA.897888?format=html#lcol4_ds13585706\n",
    "2. Calcular o índice TEX89 de acordo com Shouten et al. (2002) - https://doi.org/10.1016/S0012-821X(02)00979-2\n",
    "3. Calcular a SST, a partir do índice TEX 86, de acordo com Kim et al. (2010) - https://doi.org/10.1016/j.orggeochem.2018.10.009\n",
    "4.Fazer um gráfico de dispersão de SST_UK x SST_TEX\n",
    "\n",
    "1. Gráfico de barra SST vs Estações\n",
    "1. Criar um mapa das estações\n",
    "\n",
    "\n",
    "### 1. Ler os dados usando o pandas\n",
    "\n",
    "Desafio(s):\n",
    "\n",
    "- Formato não usual .tab do pangea\n",
    "- Separado por Tab \n",
    "- Metadados no cabeçalho do arquivo\n",
    "\n",
    "Ferramenta(s):\n",
    "\n",
    "- `pandas`\n",
    "- `pangaeapy`"
   ]
  },
  {
   "cell_type": "code",
   "execution_count": null,
   "id": "31cae24b",
   "metadata": {},
   "outputs": [],
   "source": [
    "from pangaeapy.pandataset import PanDataSet\n",
    "\n",
    "ds = PanDataSet(897888)\n",
    "df = ds.data\n",
    "df.head()"
   ]
  },
  {
   "cell_type": "markdown",
   "id": "cd2de290",
   "metadata": {},
   "source": [
    "### 2. Calcular SST_UK"
   ]
  },
  {
   "cell_type": "code",
   "execution_count": null,
   "id": "7722695e",
   "metadata": {},
   "outputs": [],
   "source": [
    "df[\"SST_UK\"] = (df[\"UK'37\"] - 0.069) / 0.033\n",
    "\n",
    "df[\"SST_UK\"].head(5)"
   ]
  },
  {
   "cell_type": "markdown",
   "id": "25672878",
   "metadata": {},
   "source": [
    "### 3. Calcular TEX86"
   ]
  },
  {
   "cell_type": "code",
   "execution_count": null,
   "id": "7181543f",
   "metadata": {},
   "outputs": [],
   "source": [
    "df[\"TEX86\"] = (df[\"GDGT-2\"] + df[\"GDGT-3\"] + df[\"Cren iso\"]) / (\n",
    "    df[\"GDGT-1\"] + df[\"GDGT-2\"] + df[\"GDGT-3\"] + df[\"Cren iso\"]\n",
    ")\n",
    "df[\"TEX86\"].head(5)"
   ]
  },
  {
   "cell_type": "markdown",
   "id": "a4712b16",
   "metadata": {},
   "source": [
    "### 4. Calcular TEXH86"
   ]
  },
  {
   "cell_type": "code",
   "execution_count": null,
   "id": "b961bf25",
   "metadata": {},
   "outputs": [],
   "source": [
    "import numpy as np\n",
    "\n",
    "df[\"TEXH86\"] = np.log10(df[\"TEX86\"])\n",
    "df[\"TEXH86\"].head(5)"
   ]
  },
  {
   "cell_type": "markdown",
   "id": "42814854",
   "metadata": {},
   "source": [
    "### 5. Calcular SST_TEX"
   ]
  },
  {
   "cell_type": "code",
   "execution_count": null,
   "id": "64a1c125",
   "metadata": {},
   "outputs": [],
   "source": [
    "df[\"SST_TEX\"] = 38.6 + (68.4 * df[\"TEXH86\"])\n",
    "\n",
    "df[\"SST_TEX\"].head(5)"
   ]
  },
  {
   "cell_type": "markdown",
   "id": "5a3dc002",
   "metadata": {},
   "source": [
    "### 6. Gráfico de dispersão SST_UK x SST_TEX"
   ]
  },
  {
   "cell_type": "code",
   "execution_count": null,
   "id": "0b0a6c7a",
   "metadata": {},
   "outputs": [],
   "source": [
    "columns = [\"Event\", \"SST_TEX\", \"SST (1-12)\", \"SST_UK\"]\n",
    "\n",
    "SSTs = df[columns].dropna()\n",
    "SSTs.head()"
   ]
  },
  {
   "cell_type": "code",
   "execution_count": null,
   "id": "e176e0e2",
   "metadata": {},
   "outputs": [],
   "source": [
    "import statsmodels.api as sm\n",
    "\n",
    "Y = SSTs[\"SST_UK\"]\n",
    "x = SSTs[\"SST_TEX\"]\n",
    "\n",
    "res = sm.OLS(\n",
    "    Y,\n",
    "    x,\n",
    ").fit()\n",
    "\n",
    "print(res.summary())"
   ]
  },
  {
   "cell_type": "code",
   "execution_count": null,
   "id": "1446a853",
   "metadata": {},
   "outputs": [],
   "source": [
    "import matplotlib.pyplot as plt\n",
    "\n",
    "lims = [14.5, 28.5, 14.5, 28.5]\n",
    "fig, ax = plt.subplots(figsize=(5, 5))\n",
    "l = ax.plot(\n",
    "    x,\n",
    "    Y,\n",
    "    marker=\"o\",\n",
    "    markerfacecolor=\"blue\",\n",
    "    markeredgecolor=\"w\",\n",
    "    linestyle=\"none\",\n",
    "    alpha=0.95,\n",
    "    markersize=8,\n",
    ")\n",
    "\n",
    "\n",
    "ax.axis(lims);"
   ]
  },
  {
   "cell_type": "code",
   "execution_count": null,
   "id": "3e47d753",
   "metadata": {},
   "outputs": [],
   "source": [
    "res.params  # Slope"
   ]
  },
  {
   "cell_type": "code",
   "execution_count": null,
   "id": "6f84e73f",
   "metadata": {},
   "outputs": [],
   "source": [
    "cabo_frio = [\n",
    "    \"HAB_A01\",\n",
    "    \"HAB_A02\",\n",
    "    \"HAB_A03\",\n",
    "    \"HAB_A04\",\n",
    "    \"HAB_B1\",\n",
    "    \"HAB_B2\",\n",
    "]\n",
    "\n",
    "\n",
    "SSTs = SSTs[~SSTs[\"Event\"].isin(cabo_frio)]"
   ]
  },
  {
   "cell_type": "code",
   "execution_count": null,
   "id": "63a4cfef",
   "metadata": {},
   "outputs": [],
   "source": [
    "res = sm.OLS(SSTs[\"SST_UK\"], SSTs[\"SST_TEX\"]).fit()\n",
    "\n",
    "print(res.summary())"
   ]
  },
  {
   "cell_type": "code",
   "execution_count": null,
   "id": "25e01580",
   "metadata": {},
   "outputs": [],
   "source": [
    "fig, ax = plt.subplots(figsize=(5, 5))\n",
    "l = ax.plot(\n",
    "    SSTs[\"SST_UK\"],\n",
    "    SSTs[\"SST_TEX\"],\n",
    "    marker=\"o\",\n",
    "    markerfacecolor=\"blue\",\n",
    "    markeredgecolor=\"w\",\n",
    "    linestyle=\"none\",\n",
    "    alpha=0.95,\n",
    "    markersize=8,\n",
    ")\n",
    "\n",
    "ax.axis(lims);"
   ]
  }
 ],
 "metadata": {
  "kernelspec": {
   "display_name": "Python 3 (ipykernel)",
   "language": "python",
   "name": "python3"
  },
  "language_info": {
   "codemirror_mode": {
    "name": "ipython",
    "version": 3
   },
   "file_extension": ".py",
   "mimetype": "text/x-python",
   "name": "python",
   "nbconvert_exporter": "python",
   "pygments_lexer": "ipython3",
   "version": "3.10.10"
  }
 },
 "nbformat": 4,
 "nbformat_minor": 5
}
