{
 "cells": [
  {
   "cell_type": "code",
   "execution_count": null,
   "id": "a06dd85d",
   "metadata": {
    "scrolled": false
   },
   "outputs": [],
   "source": [
    "import pandas as pd\n",
    "from pangaeapy.pandataset import PanDataSet\n",
    "\n",
    "pds = PanDataSet(897888)\n",
    "\n",
    "header = {}\n",
    "for k, event in enumerate(pds.events):\n",
    "    header.update(\n",
    "        {\n",
    "            k: {\n",
    "                \"longitude\": event.longitude,\n",
    "                \"latitude\": event.latitude,\n",
    "                \"elevation\": event.elevation,\n",
    "                \"event\": event.label,\n",
    "            },\n",
    "        },\n",
    "    )\n",
    "\n",
    "df = pds.data\n",
    "pdf = pd.DataFrame.from_dict(header).T"
   ]
  },
  {
   "cell_type": "code",
   "execution_count": null,
   "id": "8c898458",
   "metadata": {},
   "outputs": [],
   "source": [
    "cabo_frio = [\n",
    "    \"HAB_A01\",\n",
    "    \"HAB_A02\",\n",
    "    \"HAB_A03\",\n",
    "    \"HAB_A04\",\n",
    "    \"HAB_B1\",\n",
    "    \"HAB_B2\",\n",
    "]\n",
    "\n",
    "\n",
    "pdf = pdf[~pdf[\"event\"].isin(cabo_frio)]\n",
    "df = df[~df[\"Event\"].isin(cabo_frio)]"
   ]
  },
  {
   "cell_type": "code",
   "execution_count": null,
   "id": "f3269661",
   "metadata": {},
   "outputs": [],
   "source": [
    "df.loc[:, \"SST_UK37\"] = (df[\"UK'37\"] - 0.069) / 0.033"
   ]
  },
  {
   "cell_type": "code",
   "execution_count": null,
   "id": "f10a179e",
   "metadata": {},
   "outputs": [],
   "source": [
    "bbox = (\n",
    "    pdf[\"longitude\"].min(),\n",
    "    pdf[\"longitude\"].max(),\n",
    "    pdf[\"latitude\"].min(),\n",
    "    pdf[\"latitude\"].max(),\n",
    ")"
   ]
  },
  {
   "cell_type": "code",
   "execution_count": null,
   "id": "83354155",
   "metadata": {},
   "outputs": [],
   "source": [
    "from oceans.datasets import woa_subset\n",
    "\n",
    "ds = woa_subset(\n",
    "    *bbox,\n",
    "    variable=\"temperature\",\n",
    "    time_period=\"annual\",\n",
    "    resolution=\"1/4\",\n",
    ")\n",
    "\n",
    "ds = ds.sel(depth=0)"
   ]
  },
  {
   "cell_type": "code",
   "execution_count": null,
   "id": "725a8a62",
   "metadata": {},
   "outputs": [],
   "source": [
    "%%time\n",
    "\n",
    "ds.compute()"
   ]
  },
  {
   "cell_type": "code",
   "execution_count": null,
   "id": "010b3d86",
   "metadata": {},
   "outputs": [],
   "source": [
    "woa = {}\n",
    "\n",
    "for k, row in pdf.iterrows():\n",
    "    tmp = ds.sel(\n",
    "        {\"lon\": row[\"longitude\"], \"lat\": row[\"latitude\"]},\n",
    "        method=\"nearest\",\n",
    "    )\n",
    "\n",
    "    woa.update(\n",
    "        {\n",
    "            row[\"event\"]: {\n",
    "                \"woa\": tmp[\"t_mn\"].to_numpy().squeeze().tolist(),\n",
    "                \"lon\": tmp[\"lon\"].to_numpy().squeeze().tolist(),\n",
    "                \"lat\": tmp[\"lat\"].to_numpy().squeeze().tolist(),\n",
    "                \"lon_obs\": row[\"longitude\"],\n",
    "                \"lat_obs\": row[\"latitude\"],\n",
    "            }\n",
    "        }\n",
    "    )"
   ]
  },
  {
   "cell_type": "code",
   "execution_count": null,
   "id": "52166eee",
   "metadata": {},
   "outputs": [],
   "source": [
    "import seawater as sw\n",
    "\n",
    "w = pd.DataFrame(woa).T\n",
    "\n",
    "lats = list(zip(w[\"lat\"], w[\"lat_obs\"]))\n",
    "lons = list(zip(w[\"lon\"], w[\"lon_obs\"]))\n",
    "dists = [sw.dist(*location)[0][0] for location in zip(lats, lons)]\n",
    "w[\"dist\"] = dists"
   ]
  },
  {
   "cell_type": "code",
   "execution_count": null,
   "id": "893dba82",
   "metadata": {},
   "outputs": [],
   "source": [
    "SSTs = pd.concat(\n",
    "    [\n",
    "        df[[\"SST (1-12)\", \"Event\", \"SST_UK37\"]].reset_index(drop=True),\n",
    "        w.reset_index()\n",
    "    ],\n",
    "    axis=1,\n",
    ").dropna()\n",
    "\n",
    "SSTs.tail()"
   ]
  },
  {
   "cell_type": "code",
   "execution_count": null,
   "id": "e5bf3dd5",
   "metadata": {},
   "outputs": [],
   "source": [
    "import statsmodels.api as sm\n",
    "\n",
    "\n",
    "Y = SSTs[\"SST_UK37\"]\n",
    "x = SSTs[\"woa\"]\n",
    "\n",
    "res = sm.OLS(\n",
    "    Y,\n",
    "    x,\n",
    ").fit()\n",
    "\n",
    "print(res.summary())"
   ]
  },
  {
   "cell_type": "code",
   "execution_count": null,
   "id": "7b585afd",
   "metadata": {},
   "outputs": [],
   "source": [
    "import matplotlib.pyplot as plt\n",
    "\n",
    "\n",
    "lims = [17.5, 28.5, 17.5, 28.5]\n",
    "fig, ax = plt.subplots(figsize=(5, 5))\n",
    "l = ax.plot(\n",
    "    x,\n",
    "    Y,\n",
    "    marker=\"o\",\n",
    "    markerfacecolor=\"blue\",\n",
    "    markeredgecolor=\"w\",\n",
    "    linestyle=\"none\",\n",
    "    alpha=0.95,\n",
    "    markersize=8,\n",
    ")\n",
    "\n",
    "\n",
    "ax.axis(lims);"
   ]
  }
 ],
 "metadata": {
  "kernelspec": {
   "display_name": "Python 3 (ipykernel)",
   "language": "python",
   "name": "python3"
  },
  "language_info": {
   "codemirror_mode": {
    "name": "ipython",
    "version": 3
   },
   "file_extension": ".py",
   "mimetype": "text/x-python",
   "name": "python",
   "nbconvert_exporter": "python",
   "pygments_lexer": "ipython3",
   "version": "3.10.10"
  }
 },
 "nbformat": 4,
 "nbformat_minor": 5
}
