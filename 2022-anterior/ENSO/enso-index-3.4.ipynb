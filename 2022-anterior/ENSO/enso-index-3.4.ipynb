{
 "cells": [
  {
   "cell_type": "markdown",
   "metadata": {},
   "source": [
    "## El Niño / Southern Oscillation (ENSO) a partir de Temperatura Superficial do Mar (TSM)\n",
    "\n",
    "**Author original:** [Ryan Abernathey](http://rabernat.github.io)\n",
    "\n",
    "**Modificado por:** [Filipe Fernandes](https://github.com/ocefpaf)\n",
    "\n",
    "De acordo com a [NOAA](https://www.esrl.noaa.gov/psd/enso/):\n",
    ">  El Niño e La Niña, chamados conjuntamente de El Niño Southern Oscillation (ENSO), são desvios periódicos do esperado na TSM em regiões do Pacífico Equatorial. Essas águas do mar mais quentes ou mais frias que o normal podem afetar padrões do tempo em todo o globo influênciando sistemas de alta e baixa pressão, ventos, e precipitação. ENSO pode trazer humidade necessária em uma certa região enquanto causa  extremos de água demasiada ou escassa em outras.\n",
    "\n",
    "Nesse notebook usaremos a biblioteca python [xarray](http://xarray.pydata.org/en/latest/) para examinar dados de TSM do produto da NOAA's [Extended Reconstructed Sea Surface Temperature (ERSST) v5](https://www.ncdc.noaa.gov/data-access/marineocean-data/extended-reconstructed-sea-surface-temperature-ersst-v5).\n",
    "\n",
    "Demostraremos como calcular o [index do Niño 3.4](https://www.ncdc.noaa.gov/teleconnections/enso/indicators/sst/)."
   ]
  },
  {
   "cell_type": "code",
   "execution_count": null,
   "metadata": {},
   "outputs": [],
   "source": [
    "import xarray as xr\n",
    "from matplotlib import pyplot as plt\n",
    "import numpy as np\n",
    "import hvplot.xarray\n",
    "import holoviews as hv\n",
    "hv.extension(\"bokeh\")"
   ]
  },
  {
   "cell_type": "markdown",
   "metadata": {},
   "source": [
    "### Acessando Dados diretamente da NOAA via  OpenDAP"
   ]
  },
  {
   "cell_type": "code",
   "execution_count": null,
   "metadata": {
    "scrolled": false
   },
   "outputs": [],
   "source": [
    "url = \"https://psl.noaa.gov/thredds/dodsC/Datasets/noaa.ersst.v5/sst.mnmean.nc\"\n",
    "ds = xr.open_dataset(url)\n",
    "ds"
   ]
  },
  {
   "cell_type": "markdown",
   "metadata": {},
   "source": [
    "### Selecionar apenas as partes mais \"recentes.\""
   ]
  },
  {
   "cell_type": "code",
   "execution_count": null,
   "metadata": {},
   "outputs": [],
   "source": [
    "ds = ds.sel(time=slice(\"1960\", \"2018\"))\n",
    "ds"
   ]
  },
  {
   "cell_type": "markdown",
   "metadata": {},
   "source": [
    "### Tamanho do download"
   ]
  },
  {
   "cell_type": "code",
   "execution_count": null,
   "metadata": {},
   "outputs": [],
   "source": [
    "ds.nbytes/1e6"
   ]
  },
  {
   "cell_type": "markdown",
   "metadata": {},
   "source": [
    "# Faz o download dos dados\n",
    "\n",
    "(Pode ser lento dependendo da conexão. Qualquer coisa reduza a série temporal mais um pouco.)"
   ]
  },
  {
   "cell_type": "code",
   "execution_count": null,
   "metadata": {},
   "outputs": [],
   "source": [
    "ds.load()"
   ]
  },
  {
   "cell_type": "markdown",
   "metadata": {},
   "source": [
    "### Plot Interativo"
   ]
  },
  {
   "cell_type": "code",
   "execution_count": null,
   "metadata": {},
   "outputs": [],
   "source": [
    "%output holomap=\"scrubber\" fps=3\n",
    "\n",
    "ds.sst.hvplot(\"lon\", \"lat\", cmap=\"Magma\").redim.range(sst=(-2, 30))"
   ]
  },
  {
   "cell_type": "markdown",
   "metadata": {},
   "source": [
    "### Calcula a Anomalia Mensal Climatologica"
   ]
  },
  {
   "cell_type": "code",
   "execution_count": null,
   "metadata": {},
   "outputs": [],
   "source": [
    "sst_clim = ds.sst.groupby(\"time.month\").mean(dim=\"time\")\n",
    "\n",
    "sst_anom = ds.sst.groupby(\"time.month\") - sst_clim"
   ]
  },
  {
   "cell_type": "markdown",
   "metadata": {},
   "source": [
    "### Remove tendência linear do sinal"
   ]
  },
  {
   "cell_type": "code",
   "execution_count": null,
   "metadata": {},
   "outputs": [],
   "source": [
    "from scipy.signal import detrend\n",
    "\n",
    "\n",
    "sst_anom_detrended = xr.apply_ufunc(\n",
    "    detrend,\n",
    "    sst_anom.fillna(0),\n",
    "    kwargs={\"axis\": 0}).where(~sst_anom.isnull())"
   ]
  },
  {
   "cell_type": "markdown",
   "metadata": {},
   "source": [
    "### Plota a média global\n",
    "\n",
    "Para fazer a média global precisamos \"pesar\" os pontos usando o coseno da latitude."
   ]
  },
  {
   "cell_type": "code",
   "execution_count": null,
   "metadata": {},
   "outputs": [],
   "source": [
    "weights = np.cos(np.deg2rad(ds.lat)).where(~sst_anom[0].isnull())\n",
    "weights /= weights.mean()\n",
    "\n",
    "(sst_anom * weights).mean(dim=[\"lon\", \"lat\"]).plot(label=\"raw\")\n",
    "(sst_anom_detrended * weights).mean(dim=[\"lon\", \"lat\"]).plot(label=\"detrended\")\n",
    "plt.grid()\n",
    "plt.legend();"
   ]
  },
  {
   "cell_type": "code",
   "execution_count": null,
   "metadata": {},
   "outputs": [],
   "source": [
    "sst_anom_detrended.hvplot(\"lon\", \"lat\", cmap=\"RdBu_r\").redim.range(sst=(-2, 2))"
   ]
  },
  {
   "cell_type": "markdown",
   "metadata": {},
   "source": [
    "### Calculando o Index Oceânico do Niño"
   ]
  },
  {
   "cell_type": "code",
   "execution_count": null,
   "metadata": {},
   "outputs": [],
   "source": [
    "sst_anom_nino34 = sst_anom_detrended.sel(lat=slice(5, -5), lon=slice(360-170, 360-120))\n",
    "sst_anom_nino34_mean = sst_anom_nino34.mean(dim=(\"lon\", \"lat\"))\n",
    "oni = sst_anom_nino34_mean.rolling(time=3, center=True).mean()"
   ]
  },
  {
   "cell_type": "code",
   "execution_count": null,
   "metadata": {},
   "outputs": [],
   "source": [
    "fig, ax = plt.subplots(figsize=(11, 3.75))\n",
    "oni.plot(ax=ax)\n",
    "ax.grid()\n",
    "ax.axhline(y=0, color=\"black\")\n",
    "ax.set_ylim(-3, 3)\n",
    "# ax.set_xlim(\"1960\", \"2020\")\n",
    "plt.ylabel(\"Anomaly (dec. C)\");"
   ]
  },
  {
   "cell_type": "markdown",
   "metadata": {},
   "source": [
    "![](https://camo.githubusercontent.com/f4fb57e583e664d9b5f1861d4b062ad0a32aeac1/68747470733a2f2f7777772e6e6364632e6e6f61612e676f762f6d6f6e69746f72696e672d636f6e74656e742f74656c65636f6e6e656374696f6e732f656c6e2d662d70672e676966)"
   ]
  }
 ],
 "metadata": {
  "kernelspec": {
   "display_name": "Python 3 (ipykernel)",
   "language": "python",
   "name": "python3"
  },
  "language_info": {
   "codemirror_mode": {
    "name": "ipython",
    "version": 3
   },
   "file_extension": ".py",
   "mimetype": "text/x-python",
   "name": "python",
   "nbconvert_exporter": "python",
   "pygments_lexer": "ipython3",
   "version": "3.10.5"
  }
 },
 "nbformat": 4,
 "nbformat_minor": 2
}
