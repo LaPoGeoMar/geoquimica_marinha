{
 "cells": [
  {
   "cell_type": "code",
   "execution_count": null,
   "metadata": {},
   "outputs": [],
   "source": [
    "import geopandas\n",
    "\n",
    "\n",
    "gdf = geopandas.read_file(\"itacorubi.geojson\")\n",
    "meters = gdf.to_crs(epsg=3395)  # WGS 84 / World Mercator\n",
    "\n",
    "print(f\"{sum(meters.area / 10**6):0.4} km²\")"
   ]
  },
  {
   "cell_type": "code",
   "execution_count": null,
   "metadata": {},
   "outputs": [],
   "source": [
    "import folium\n",
    "import folium.plugins\n",
    "\n",
    "\n",
    "attr = \"Tiles &copy; Esri &mdash; Source: Esri, i-cubed, USDA, USGS, AEX, GeoEye, Getmapping, Aerogrid, IGN, IGP, UPR-EGP, and the GIS User Community\"\n",
    "tiles = \"https://server.arcgisonline.com/ArcGIS/rest/services/World_Imagery/MapServer/tile/{z}/{y}/{x}\"\n",
    "\n",
    "m = folium.Map(zoom_start=15,\n",
    "    location=[-27.5822, -48.5161],\n",
    "    tiles=tiles,\n",
    "    attr=attr,\n",
    ")\n",
    "\n",
    "folium.GeoJson(gdf).add_to(m)\n",
    "folium.plugins.Fullscreen(force_separate_button=True).add_to(m)\n",
    "\n",
    "m.fit_bounds(m.get_bounds())\n",
    "m"
   ]
  }
 ],
 "metadata": {
  "kernelspec": {
   "display_name": "Python 3 (ipykernel)",
   "language": "python",
   "name": "python3"
  },
  "language_info": {
   "codemirror_mode": {
    "name": "ipython",
    "version": 3
   },
   "file_extension": ".py",
   "mimetype": "text/x-python",
   "name": "python",
   "nbconvert_exporter": "python",
   "pygments_lexer": "ipython3",
   "version": "3.10.4"
  }
 },
 "nbformat": 4,
 "nbformat_minor": 2
}
