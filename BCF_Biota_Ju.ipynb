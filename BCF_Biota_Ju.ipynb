{
 "cells": [
  {
   "cell_type": "code",
   "execution_count": 1,
   "metadata": {},
   "outputs": [
    {
     "data": {
      "text/html": [
       "<div>\n",
       "<style scoped>\n",
       "    .dataframe tbody tr th:only-of-type {\n",
       "        vertical-align: middle;\n",
       "    }\n",
       "\n",
       "    .dataframe tbody tr th {\n",
       "        vertical-align: top;\n",
       "    }\n",
       "\n",
       "    .dataframe thead th {\n",
       "        text-align: right;\n",
       "    }\n",
       "</style>\n",
       "<table border=\"1\" class=\"dataframe\">\n",
       "  <thead>\n",
       "    <tr style=\"text-align: right;\">\n",
       "      <th></th>\n",
       "      <th>Água (ng L-1)</th>\n",
       "      <th>Biota (ug kg-1)</th>\n",
       "    </tr>\n",
       "  </thead>\n",
       "  <tbody>\n",
       "    <tr>\n",
       "      <th>PCBs-Mexilhão</th>\n",
       "      <td>0.00095</td>\n",
       "      <td>0.45</td>\n",
       "    </tr>\n",
       "    <tr>\n",
       "      <th>PCBs-Fito</th>\n",
       "      <td>500.00000</td>\n",
       "      <td>64.22</td>\n",
       "    </tr>\n",
       "  </tbody>\n",
       "</table>\n",
       "</div>"
      ],
      "text/plain": [
       "               Água (ng L-1)  Biota (ug kg-1)\n",
       "PCBs-Mexilhão        0.00095             0.45\n",
       "PCBs-Fito          500.00000            64.22"
      ]
     },
     "execution_count": 1,
     "metadata": {},
     "output_type": "execute_result"
    }
   ],
   "source": [
    "import pandas as pd\n",
    "\n",
    "df = pd.read_excel(\"Aula01_BCF.xlsx\", sheet_name=1, skiprows=1, index_col=0).T\n",
    "df"
   ]
  },
  {
   "cell_type": "code",
   "execution_count": 3,
   "metadata": {},
   "outputs": [
    {
     "data": {
      "text/html": [
       "<div>\n",
       "<style scoped>\n",
       "    .dataframe tbody tr th:only-of-type {\n",
       "        vertical-align: middle;\n",
       "    }\n",
       "\n",
       "    .dataframe tbody tr th {\n",
       "        vertical-align: top;\n",
       "    }\n",
       "\n",
       "    .dataframe thead th {\n",
       "        text-align: right;\n",
       "    }\n",
       "</style>\n",
       "<table border=\"1\" class=\"dataframe\">\n",
       "  <thead>\n",
       "    <tr style=\"text-align: right;\">\n",
       "      <th></th>\n",
       "      <th>Água (ng L-1)</th>\n",
       "      <th>Biota (ug kg-1)</th>\n",
       "      <th>Água (ug L-1)</th>\n",
       "    </tr>\n",
       "  </thead>\n",
       "  <tbody>\n",
       "    <tr>\n",
       "      <th>PCBs-Mexilhão</th>\n",
       "      <td>0.00095</td>\n",
       "      <td>0.45</td>\n",
       "      <td>9.500000e-07</td>\n",
       "    </tr>\n",
       "    <tr>\n",
       "      <th>PCBs-Fito</th>\n",
       "      <td>500.00000</td>\n",
       "      <td>64.22</td>\n",
       "      <td>5.000000e-01</td>\n",
       "    </tr>\n",
       "  </tbody>\n",
       "</table>\n",
       "</div>"
      ],
      "text/plain": [
       "               Água (ng L-1)  Biota (ug kg-1)  Água (ug L-1)\n",
       "PCBs-Mexilhão        0.00095             0.45   9.500000e-07\n",
       "PCBs-Fito          500.00000            64.22   5.000000e-01"
      ]
     },
     "execution_count": 3,
     "metadata": {},
     "output_type": "execute_result"
    }
   ],
   "source": [
    "df[\"Água (ug L-1)\"] = df[\"Água (ng L-1)\"] / 1000\n",
    "df"
   ]
  },
  {
   "cell_type": "code",
   "execution_count": 4,
   "metadata": {},
   "outputs": [
    {
     "data": {
      "text/html": [
       "<div>\n",
       "<style scoped>\n",
       "    .dataframe tbody tr th:only-of-type {\n",
       "        vertical-align: middle;\n",
       "    }\n",
       "\n",
       "    .dataframe tbody tr th {\n",
       "        vertical-align: top;\n",
       "    }\n",
       "\n",
       "    .dataframe thead th {\n",
       "        text-align: right;\n",
       "    }\n",
       "</style>\n",
       "<table border=\"1\" class=\"dataframe\">\n",
       "  <thead>\n",
       "    <tr style=\"text-align: right;\">\n",
       "      <th></th>\n",
       "      <th>Água (ng L-1)</th>\n",
       "      <th>Biota (ug kg-1)</th>\n",
       "      <th>Água (ug L-1)</th>\n",
       "      <th>BCF</th>\n",
       "    </tr>\n",
       "  </thead>\n",
       "  <tbody>\n",
       "    <tr>\n",
       "      <th>PCBs-Mexilhão</th>\n",
       "      <td>0.00095</td>\n",
       "      <td>0.45</td>\n",
       "      <td>9.500000e-07</td>\n",
       "      <td>473684.210526</td>\n",
       "    </tr>\n",
       "    <tr>\n",
       "      <th>PCBs-Fito</th>\n",
       "      <td>500.00000</td>\n",
       "      <td>64.22</td>\n",
       "      <td>5.000000e-01</td>\n",
       "      <td>128.440000</td>\n",
       "    </tr>\n",
       "  </tbody>\n",
       "</table>\n",
       "</div>"
      ],
      "text/plain": [
       "               Água (ng L-1)  Biota (ug kg-1)  Água (ug L-1)            BCF\n",
       "PCBs-Mexilhão        0.00095             0.45   9.500000e-07  473684.210526\n",
       "PCBs-Fito          500.00000            64.22   5.000000e-01     128.440000"
      ]
     },
     "execution_count": 4,
     "metadata": {},
     "output_type": "execute_result"
    }
   ],
   "source": [
    "df[\"BCF\"] = df[\"Biota (ug kg-1)\"] / df[\"Água (ug L-1)\"]\n",
    "\n",
    "df"
   ]
  },
  {
   "cell_type": "code",
   "execution_count": 7,
   "metadata": {},
   "outputs": [
    {
     "data": {
      "text/html": [
       "<div>\n",
       "<style scoped>\n",
       "    .dataframe tbody tr th:only-of-type {\n",
       "        vertical-align: middle;\n",
       "    }\n",
       "\n",
       "    .dataframe tbody tr th {\n",
       "        vertical-align: top;\n",
       "    }\n",
       "\n",
       "    .dataframe thead th {\n",
       "        text-align: right;\n",
       "    }\n",
       "</style>\n",
       "<table border=\"1\" class=\"dataframe\">\n",
       "  <thead>\n",
       "    <tr style=\"text-align: right;\">\n",
       "      <th></th>\n",
       "      <th>Água (ng L-1)</th>\n",
       "      <th>Biota (ug kg-1)</th>\n",
       "      <th>Água (ug L-1)</th>\n",
       "      <th>BCF</th>\n",
       "      <th>logBCF</th>\n",
       "    </tr>\n",
       "  </thead>\n",
       "  <tbody>\n",
       "    <tr>\n",
       "      <th>PCBs-Mexilhão</th>\n",
       "      <td>0.00095</td>\n",
       "      <td>0.45</td>\n",
       "      <td>9.500000e-07</td>\n",
       "      <td>473684.210526</td>\n",
       "      <td>5.675489</td>\n",
       "    </tr>\n",
       "    <tr>\n",
       "      <th>PCBs-Fito</th>\n",
       "      <td>500.00000</td>\n",
       "      <td>64.22</td>\n",
       "      <td>5.000000e-01</td>\n",
       "      <td>128.440000</td>\n",
       "      <td>2.108700</td>\n",
       "    </tr>\n",
       "  </tbody>\n",
       "</table>\n",
       "</div>"
      ],
      "text/plain": [
       "               Água (ng L-1)  Biota (ug kg-1)  Água (ug L-1)            BCF  \\\n",
       "PCBs-Mexilhão        0.00095             0.45   9.500000e-07  473684.210526   \n",
       "PCBs-Fito          500.00000            64.22   5.000000e-01     128.440000   \n",
       "\n",
       "                 logBCF  \n",
       "PCBs-Mexilhão  5.675489  \n",
       "PCBs-Fito      2.108700  "
      ]
     },
     "execution_count": 7,
     "metadata": {},
     "output_type": "execute_result"
    }
   ],
   "source": [
    "import numpy as np\n",
    "df[\"logBCF\"] = np.log10(df[\"BCF\"])\n",
    "df"
   ]
  },
  {
   "cell_type": "code",
   "execution_count": 9,
   "metadata": {},
   "outputs": [
    {
     "data": {
      "image/png": "[encoded data removed]",
      "text/plain": [
       "<Figure size 432x288 with 1 Axes>"
      ]
     },
     "metadata": {
      "needs_background": "light"
     },
     "output_type": "display_data"
    }
   ],
   "source": [
    "%matplotlib inline\n",
    "\n",
    "df[\"BCF\"].plot.bar();"
   ]
  },
  {
   "cell_type": "code",
   "execution_count": 10,
   "metadata": {},
   "outputs": [
    {
     "data": {
      "image/png": "[encoded data removed]",
      "text/plain": [
       "<Figure size 432x288 with 1 Axes>"
      ]
     },
     "metadata": {
      "needs_background": "light"
     },
     "output_type": "display_data"
    }
   ],
   "source": [
    "df[\"logBCF\"].plot.bar();"
   ]
  },
  {
   "cell_type": "code",
   "execution_count": null,
   "metadata": {},
   "outputs": [],
   "source": []
  }
 ],
 "metadata": {
  "kernelspec": {
   "display_name": "Python 3",
   "language": "python",
   "name": "python3"
  },
  "language_info": {
   "codemirror_mode": {
    "name": "ipython",
    "version": 3
   },
   "file_extension": ".py",
   "mimetype": "text/x-python",
   "name": "python",
   "nbconvert_exporter": "python",
   "pygments_lexer": "ipython3",
   "version": "3.7.3"
  }
 },
 "nbformat": 4,
 "nbformat_minor": 2
}
