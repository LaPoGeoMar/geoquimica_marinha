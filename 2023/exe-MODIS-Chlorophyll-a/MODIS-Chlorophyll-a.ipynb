{
 "cells": [
  {
   "cell_type": "code",
   "execution_count": null,
   "metadata": {},
   "outputs": [],
   "source": [
    "import pooch\n",
    "\n",
    "url = \"https://github.com/LaPoGeoMar/geoquimica_marinha/releases/download\"\n",
    "version = \"v0.0.1.dev\"\n",
    "fname = \"erdMH1chlamday.nc\"\n",
    "\n",
    "fname = pooch.retrieve(\n",
    "    url=f\"{url}/{version}/{fname}\",\n",
    "    known_hash=\"sha256:4f6e5e2d8500d3ea4ce8e2282df40ff7577ff10e5a33e88a22e5b5bdab03c07c\",\n",
    ")"
   ]
  },
  {
   "cell_type": "code",
   "execution_count": null,
   "metadata": {},
   "outputs": [],
   "source": [
    "import xarray as xr\n",
    "\n",
    "ds = xr.open_dataset(fname)\n",
    "ds"
   ]
  },
  {
   "cell_type": "code",
   "execution_count": null,
   "metadata": {},
   "outputs": [],
   "source": [
    "ds.attrs"
   ]
  },
  {
   "cell_type": "code",
   "execution_count": null,
   "metadata": {},
   "outputs": [],
   "source": [
    "ds[\"chlorophyll\"].attrs"
   ]
  },
  {
   "cell_type": "code",
   "execution_count": null,
   "metadata": {},
   "outputs": [],
   "source": [
    "import numpy as np\n",
    "\n",
    "chl_log = np.log(ds.mean(dim=\"time\"))"
   ]
  },
  {
   "cell_type": "code",
   "execution_count": null,
   "metadata": {},
   "outputs": [],
   "source": [
    "import cartopy.crs as ccrs\n",
    "import cmcrameri.cm as cmc\n",
    "import matplotlib.pyplot as plt\n",
    "from cartopy.feature import LAND\n",
    "\n",
    "cmap = cmc.batlow\n",
    "cmap.set_bad(\"black\", 1.0)\n",
    "\n",
    "fig, ax = plt.subplots(\n",
    "    subplot_kw={\"projection\": ccrs.PlateCarree()},\n",
    "    figsize=(26, 12),\n",
    ")\n",
    "\n",
    "cs = chl_log[\"chlorophyll\"].plot(\n",
    "    ax=ax,\n",
    "    x=\"longitude\",\n",
    "    y=\"latitude\",\n",
    "    cmap=cmap,\n",
    "    cbar_kwargs={\n",
    "        \"label\": f\"{ds['chlorophyll'].attrs['units']}\",\n",
    "        \"extend\": \"both\",\n",
    "    },\n",
    ")\n",
    "\n",
    "ax.add_feature(LAND, facecolor=\"gray\", zorder=99);"
   ]
  }
 ],
 "metadata": {
  "kernelspec": {
   "display_name": "Python 3 (ipykernel)",
   "language": "python",
   "name": "python3"
  },
  "language_info": {
   "codemirror_mode": {
    "name": "ipython",
    "version": 3
   },
   "file_extension": ".py",
   "mimetype": "text/x-python",
   "name": "python",
   "nbconvert_exporter": "python",
   "pygments_lexer": "ipython3",
   "version": "3.11.0"
  }
 },
 "nbformat": 4,
 "nbformat_minor": 1
}
