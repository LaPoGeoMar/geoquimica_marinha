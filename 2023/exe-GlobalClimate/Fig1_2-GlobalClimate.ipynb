{
 "cells": [
  {
   "cell_type": "code",
   "execution_count": null,
   "id": "430d11f6",
   "metadata": {},
   "outputs": [],
   "source": [
    "import pandas as pd\n",
    "\n",
    "\n",
    "df = pd.read_csv(\"TableS33.tab\", skiprows=91, sep=\"\\t\")\n",
    "df.head()"
   ]
  },
  {
   "cell_type": "code",
   "execution_count": null,
   "id": "102701f3",
   "metadata": {},
   "outputs": [],
   "source": [
    "import matplotlib.pyplot as plt\n",
    "\n",
    "\n",
    "fig, (ax0, ax1) = plt.subplots(nrows=2, figsize=(11, 6), sharex=True)\n",
    "\n",
    "df.plot(ax=ax0, x=\"Tuned time [Ma]\", y=\"Foram benth δ18O [‰ PDB] (smoothLoess10)\", legend=False)\n",
    "df.plot(ax=ax1, x=\"Tuned time [Ma]\", y=\"Foram benth δ13C [‰ PDB] (smoothLoess10)\", legend=False)\n",
    "\n",
    "ax0.set_ylabel(\"benthic δ$^{18}$O (‰)\")\n",
    "ax1.set_ylabel(\"benthic δ$^{13}$C (‰)\")\n",
    "\n",
    "ax0.invert_yaxis()\n",
    "ax0.invert_xaxis()\n",
    "ax0.grid()\n",
    "ax1.grid()\n",
    "\n",
    "ax0.set_xlim(68, 0);"
   ]
  },
  {
   "cell_type": "code",
   "execution_count": null,
   "id": "5f0521be",
   "metadata": {},
   "outputs": [],
   "source": [
    "fig, (ax0, ax1) = plt.subplots(ncols=2, figsize=(10, 5), sharey=True)\n",
    "\n",
    "cs = ax0.scatter(\n",
    "    df[\"Foram benth δ13C [‰ PDB] (smoothLoess10)\"],\n",
    "    df[\"Foram benth δ18O [‰ PDB] (smoothLoess10)\"],\n",
    "    s=10,\n",
    "    c=df[\"Tuned time [Ma]\"],\n",
    ")\n",
    "\n",
    "ax0.set_xlabel(\"benthic δ$^{13}$C (‰)\")\n",
    "ax0.set_ylabel(\"benthic δ$^{18}$O (‰)\")\n",
    "\n",
    "# cs = ax0.scatter(\n",
    "#     df[\"Foram benth δ13C [‰ PDB] (smoothLoess10)\"],\n",
    "#     df[\"\"],\n",
    "#     s=10,\n",
    "#     c=df[\"Tuned time [Ma]\"],\n",
    "# )\n",
    "\n",
    "# ax0.set_xlabel(\"benthic δ$^{13}$C (‰)\")\n",
    "# ax0.set_ylabel(\"benthic δ$^{18}$O (‰)\")\n",
    "\n",
    "\n",
    "fig.colorbar(cs)"
   ]
  }
 ],
 "metadata": {
  "kernelspec": {
   "display_name": "Python 3 (ipykernel)",
   "language": "python",
   "name": "python3"
  },
  "language_info": {
   "codemirror_mode": {
    "name": "ipython",
    "version": 3
   },
   "file_extension": ".py",
   "mimetype": "text/x-python",
   "name": "python",
   "nbconvert_exporter": "python",
   "pygments_lexer": "ipython3",
   "version": "3.11.0"
  }
 },
 "nbformat": 4,
 "nbformat_minor": 5
}
