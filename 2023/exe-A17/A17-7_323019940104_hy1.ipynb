{
 "cells": [
  {
   "cell_type": "markdown",
   "metadata": {},
   "source": [
    "# Trying to reproduce\n",
    "\n",
    "![](https://www.ewoce.org/gallery/A17_OXYGEN.gif)\n",
    "\n",
    "https://cchdo.ucsd.edu/search?q=WOCE\n",
    "\n",
    "https://cchdo.ucsd.edu/cruise/3230CITHER2_1\n",
    "\n",
    "\n",
    "Also try: https://cchdo.ucsd.edu/cruise/29HE20130320"
   ]
  },
  {
   "cell_type": "code",
   "execution_count": null,
   "metadata": {},
   "outputs": [],
   "source": [
    "import io\n",
    "\n",
    "import pandas as pd\n",
    "import requests\n",
    "\n",
    "url = \"https://cchdo.ucsd.edu/data/12686/323019940104_hy1.csv\"\n",
    "with requests.get(url) as r:\n",
    "    lines = r.content.decode().splitlines()\n",
    "\n",
    "header = lines[37].strip().split(\",\")\n",
    "units = lines[38].strip().split(\",\")\n",
    "\n",
    "with io.StringIO(\"\\n\".join(lines[39:-1])) as f:\n",
    "    df = pd.read_csv(\n",
    "        f,\n",
    "        names=header,\n",
    "        na_values=-999,\n",
    "        engine=\"python\",\n",
    "    )\n",
    "\n",
    "df"
   ]
  },
  {
   "cell_type": "markdown",
   "metadata": {},
   "source": [
    "- Segment a: Transit de Montévidéo à la fin de la station 3.\n",
    "- Segment b: Début de la station 41 à la fin de la station 43.\n",
    "- Segment c: Début de la station 43 à la fin de la station 58.\n",
    "- Segment d: Début de la station 115 à Salvador de Bahia.\n",
    "- Segment e: De Salvador de Bahia au début de la station 141.\n",
    "- Segment f: Début de la station 150 à Récife.\n",
    "- Segment g: De Récife à la fin de la station 15 1.\n",
    "- Segment h1: Début de la station 2 10 à la fin de la station 212.\n",
    "- Segment h2: Début de la station 212 à Cayenne.\n",
    "- Segment i: Grande section a17, complément des segments précedents."
   ]
  },
  {
   "cell_type": "code",
   "execution_count": null,
   "metadata": {},
   "outputs": [],
   "source": [
    "import matplotlib.pyplot as plt\n",
    "\n",
    "remove_stations = (\n",
    "    list(range(1, 3 + 1))  # segment a\n",
    "    + list(range(41, 43 + 1))  # segment b\n",
    "    + list(range(43, 58 + 1))  # segment c\n",
    "    + list(range(115, 141 + 1))  # segment d\n",
    "    + list(range(210, 235 + 1))  # segment h1/h2\n",
    ")\n",
    "\n",
    "groups = df.groupby(\"STNNBR\")\n",
    "fig, ax = plt.subplots()\n",
    "\n",
    "for k, g in groups:\n",
    "    if k not in remove_stations:\n",
    "        ax.plot(g[\"LONGITUDE\"].iloc[0], g[\"LATITUDE\"].iloc[0], \"o\")\n",
    "        ax.text(g[\"LONGITUDE\"].iloc[0], g[\"LATITUDE\"].iloc[0], s=str(k))"
   ]
  },
  {
   "cell_type": "code",
   "execution_count": null,
   "metadata": {
    "scrolled": false
   },
   "outputs": [],
   "source": [
    "import gsw\n",
    "import matplotlib.pyplot as plt\n",
    "import numpy as np\n",
    "\n",
    "\n",
    "def TS_prop(prop=\"OXYGEN\"):\n",
    "    fig, ax = plt.subplots(figsize=(9, 9))\n",
    "    s = ax.scatter(df[\"SALNTY\"], df[\"THETA\"], s=50, c=df[prop], alpha=0.85)\n",
    "\n",
    "    ax.set_xlabel(\"Salinidade\")\n",
    "    ax.set_ylabel(\"Temperatura Potencial (°C)\")\n",
    "    cbar = fig.colorbar(s, extend=\"both\", shrink=0.9)\n",
    "\n",
    "    npt = 100\n",
    "    smin, smax, tmin, tmax = (\n",
    "        min(df[\"SALNTY\"]),\n",
    "        max(df[\"SALNTY\"]),\n",
    "        min(df[\"THETA\"]),\n",
    "        max(df[\"THETA\"]),\n",
    "    )\n",
    "    T = np.linspace(tmin - 1, tmax + 1, npt)\n",
    "    S = np.linspace(smin - 1, smax + 1, npt)\n",
    "    Tg, Sg = np.meshgrid(T, S)\n",
    "    sigma_theta = gsw.sigma0(Sg, Tg)\n",
    "\n",
    "    cs = ax.contour(Sg, Tg, sigma_theta, colors=\"grey\", zorder=1, levels=12)\n",
    "    ax.clabel(cs, fmt=r\"σ=%.1f\")\n",
    "\n",
    "    kw = {\"fontsize\": 14, \"fontweight\": \"black\", \"color\": \"purple\"}\n",
    "    props = {\"boxstyle\": \"round\", \"facecolor\": \"wheat\", \"alpha\": 0.5}\n",
    "    arrowprops = {\n",
    "        \"arrowstyle\": \"->\",\n",
    "        \"connectionstyle\": \"angle,angleA=0,angleB=90,rad=10\",\n",
    "    }\n",
    "\n",
    "    offset = 40\n",
    "\n",
    "    def annotate(ax, x, y, text, xytext=(2 * offset, offset), arrowprops=arrowprops):\n",
    "        ax.annotate(\n",
    "            text,\n",
    "            (x, y),\n",
    "            xytext=xytext,\n",
    "            textcoords=\"offset points\",\n",
    "            bbox=props,\n",
    "            arrowprops=arrowprops,\n",
    "            **kw,\n",
    "        )\n",
    "\n",
    "    ax.text(35.4, 15, \"ACAS\", bbox=props, rotation=45, **kw)\n",
    "    annotate(ax, 34.1, 3.5, \"AIA\", xytext=(2 * offset, 1.25 * offset))\n",
    "    annotate(ax, 34.8, 3, \"APAN\")\n",
    "    ax.text(34.9, -0.25, \"AAF\", bbox=props, **kw)\n",
    "    annotate(\n",
    "        ax,\n",
    "        34.85,\n",
    "        1.5,\n",
    "        \"LCPW\",\n",
    "        xytext=(offset, 0.3 * offset),\n",
    "        arrowprops={\"arrowstyle\": \"->\"},\n",
    "    )\n",
    "    annotate(\n",
    "        ax,\n",
    "        34.75,\n",
    "        2,\n",
    "        \"UCPW\",\n",
    "        xytext=(-2 * offset, -0.3 * offset),\n",
    "        arrowprops={\"arrowstyle\": \"->\"},\n",
    "    )\n",
    "\n",
    "    ax.axis([33.5, 38, -1, 30])\n",
    "    return fig, ax, cbar"
   ]
  },
  {
   "cell_type": "code",
   "execution_count": null,
   "metadata": {},
   "outputs": [],
   "source": [
    "fig, ax, cbar = TS_prop(prop=\"PHSPHT\")\n",
    "cbar.set_label(\"Fosfato (µmol/kg)\")"
   ]
  },
  {
   "cell_type": "code",
   "execution_count": null,
   "metadata": {},
   "outputs": [],
   "source": [
    "fig, ax, cbar = TS_prop(prop=\"OXYGEN\")\n",
    "cbar.set_label(\"Oxigênio (µmol/kg)\")"
   ]
  },
  {
   "cell_type": "code",
   "execution_count": null,
   "metadata": {
    "scrolled": true
   },
   "outputs": [],
   "source": [
    "groups = df.groupby(\"STNNBR\")\n",
    "\n",
    "oxygen = {}\n",
    "salinity = {}\n",
    "temperature = {}\n",
    "\n",
    "depths = []\n",
    "latitudes = []\n",
    "longitudes = []\n",
    "\n",
    "for station in set(df[\"STNNBR\"]):\n",
    "    # Remove the coastal trips checked with the commented plot above.\n",
    "    if station not in remove_stations:\n",
    "        lat, lon, depth = groups.get_group(station)[\n",
    "            [\"LATITUDE\", \"LONGITUDE\", \"DEPTH\"]\n",
    "        ].iloc[0]\n",
    "        oxy = groups.get_group(station)[[\"CTDPRS\", \"OXYGEN\"]].set_index(\"CTDPRS\")\n",
    "        salt = groups.get_group(station)[[\"CTDPRS\", \"SALNTY\"]].set_index(\"CTDPRS\")\n",
    "        temp = groups.get_group(station)[[\"CTDPRS\", \"CTDTMP\"]].set_index(\"CTDPRS\")\n",
    "\n",
    "        oxy.columns = [station]\n",
    "        salt.columns = [station]\n",
    "        temp.columns = [station]\n",
    "\n",
    "        depths.append(depth)\n",
    "        latitudes.append(lat)\n",
    "        longitudes.append(lon)\n",
    "\n",
    "        oxygen.update({station: oxy})\n",
    "        salinity.update({station: salt})\n",
    "        temperature.update({station: temp})\n",
    "\n",
    "oxy = pd.concat(oxygen.values()).sort_index()\n",
    "salt = pd.concat(salinity.values()).sort_index()\n",
    "temp = pd.concat(temperature.values()).sort_index()"
   ]
  },
  {
   "cell_type": "code",
   "execution_count": null,
   "metadata": {},
   "outputs": [],
   "source": [
    "import seawater as sw\n",
    "\n",
    "oxy_data = np.ma.masked_invalid(oxy.values)\n",
    "salt_data = np.ma.masked_invalid(salt.values)\n",
    "temp_data = np.ma.masked_invalid(temp.values)\n",
    "\n",
    "dist = sw.dist(latitudes, longitudes)\n",
    "x = np.cumsum([0, *dist[0]])\n",
    "z = oxy.index.values"
   ]
  },
  {
   "cell_type": "code",
   "execution_count": null,
   "metadata": {},
   "outputs": [],
   "source": [
    "oxy_filled = oxy.interpolate(method=\"linear\")\n",
    "salt_filled = salt.interpolate(method=\"linear\")\n",
    "temp_filled = temp.interpolate(method=\"linear\")"
   ]
  },
  {
   "cell_type": "code",
   "execution_count": null,
   "metadata": {
    "scrolled": false
   },
   "outputs": [],
   "source": [
    "def a17_section(interp, data, cmap, vmin=None, vmax=None, levels=None):\n",
    "    fig, ax = plt.subplots(figsize=(17, 7))\n",
    "    ax.invert_yaxis()\n",
    "    cs = ax.pcolormesh(latitudes, z, interp, cmap=cmap, vmin=vmin, vmax=vmax)\n",
    "    cbar = fig.colorbar(cs, extend=\"both\", spacing=\"proportional\")\n",
    "    ax.fill_between(latitudes, depths, y2=max(z), color=\"black\", zorder=99)\n",
    "\n",
    "    vals = [-50, -40, -30, -20, -10, 0, 9.751]\n",
    "    labels = [\"50°S\", \"40°S\", \"30°S\", \"20°S\", \"10°S\", \"EQ\", \"10°N\"]\n",
    "    plt.xticks(vals, labels, color=\"k\")\n",
    "\n",
    "    for k, series in enumerate(data.values()):\n",
    "        zz = series.index.to_numpy()\n",
    "        xx = [latitudes[k]] * len(zz)\n",
    "        ax.scatter(xx, zz, s=0.5, c=\"gray\")\n",
    "\n",
    "    return fig, ax, cbar"
   ]
  },
  {
   "cell_type": "code",
   "execution_count": null,
   "metadata": {
    "scrolled": false
   },
   "outputs": [],
   "source": [
    "import cmcrameri.cm as cmc\n",
    "\n",
    "cmap = cmc.batlowW_r\n",
    "levels = np.linspace(100, 300, 15)\n",
    "\n",
    "fig, ax, cbar = a17_section(\n",
    "    interp=oxy_filled, data=oxygen, cmap=cmap, vmin=100, vmax=300, levels=levels\n",
    ")\n",
    "cbar.ax.set_title(\"µmol/kg\\n\");"
   ]
  },
  {
   "cell_type": "code",
   "execution_count": null,
   "metadata": {},
   "outputs": [],
   "source": [
    "cmap = cmc.vik\n",
    "\n",
    "fig, ax, cbar = a17_section(\n",
    "    interp=salt_filled, data=salinity, cmap=cmap, vmin=34, vmax=36.5\n",
    ")\n",
    "cbar.ax.set_title(\"\");"
   ]
  },
  {
   "cell_type": "code",
   "execution_count": null,
   "metadata": {
    "scrolled": false
   },
   "outputs": [],
   "source": [
    "import palettable\n",
    "\n",
    "cmap = palettable.cmocean.sequential.get_map(\"Thermal_3\").mpl_colormap\n",
    "\n",
    "fig, ax, cbar = a17_section(interp=temp_filled, data=temperature, cmap=cmap)\n",
    "cbar.ax.set_title(\"℃\");"
   ]
  }
 ],
 "metadata": {
  "kernelspec": {
   "display_name": "Python 3 (ipykernel)",
   "language": "python",
   "name": "python3"
  },
  "language_info": {
   "codemirror_mode": {
    "name": "ipython",
    "version": 3
   },
   "file_extension": ".py",
   "mimetype": "text/x-python",
   "name": "python",
   "nbconvert_exporter": "python",
   "pygments_lexer": "ipython3",
   "version": "3.11.0"
  }
 },
 "nbformat": 4,
 "nbformat_minor": 4
}
