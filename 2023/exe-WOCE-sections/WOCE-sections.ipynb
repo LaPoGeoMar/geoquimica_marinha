{
 "cells": [
  {
   "cell_type": "markdown",
   "metadata": {},
   "source": [
    "# WOCE temperature/salinity sections"
   ]
  },
  {
   "cell_type": "code",
   "execution_count": null,
   "metadata": {},
   "outputs": [],
   "source": [
    "from pathlib import Path\n",
    "\n",
    "import cf_xarray  # noqa\n",
    "import xarray as xr\n",
    "\n",
    "fname = Path(\"woce_atlantic_slice.nc\")\n",
    "url = \"http://icdc.cen.uni-hamburg.de/thredds/dodsC/ftpthredds/woce/wghc_params.nc\"\n",
    "\n",
    "if not fname.exists():\n",
    "    ds = xr.open_dataset(url)\n",
    "    ds = ds[[\"TPOTEN\", \"SIG0\", \"SALINITY\"]]\n",
    "    ds = ds.sel(LON=334)\n",
    "    ds.to_netcdf(fname)\n",
    "else:\n",
    "    ds = xr.open_dataset(fname)\n",
    "\n",
    "ds"
   ]
  },
  {
   "cell_type": "code",
   "execution_count": null,
   "metadata": {},
   "outputs": [],
   "source": [
    "import matplotlib.pyplot as plt\n",
    "\n",
    "\n",
    "def plot_section(ds, varname, cmap, vmin=None, vmax=None):\n",
    "    y = ds.cf[\"Y\"]\n",
    "    z = ds.cf[\"Z\"]\n",
    "\n",
    "    fig, ax = plt.subplots(figsize=(19, 7.25))\n",
    "    cs = ax.pcolormesh(y, z, ds[varname], cmap=cmap, vmin=vmin, vmax=vmax)\n",
    "    ax.set_ylim(0, 5000)\n",
    "    ax.set_xlim(-60, 60)\n",
    "    ax.invert_yaxis()\n",
    "    ax.set_ylabel(\"depth (m)\")\n",
    "    ax.set_xlabel(\"latitude (degrees)\")\n",
    "\n",
    "    fig.colorbar(cs, orientation=\"vertical\", shrink=0.95, fraction=0.15, extend=\"both\")\n",
    "\n",
    "    levels = [24.5, 25, 26, 26.5, 27, 27.5]\n",
    "    clabel = ax.contour(y, z, ds[\"SIG0\"], colors=\"w\", levels=levels)\n",
    "    ax.clabel(clabel, fmt=r\"%.1f\")"
   ]
  },
  {
   "cell_type": "code",
   "execution_count": null,
   "metadata": {},
   "outputs": [],
   "source": [
    "import palettable\n",
    "\n",
    "cmap = palettable.cmocean.sequential.Thermal_20.mpl_colormap\n",
    "plot_section(ds, varname=\"TPOTEN\", cmap=cmap)"
   ]
  },
  {
   "cell_type": "code",
   "execution_count": null,
   "metadata": {
    "scrolled": false
   },
   "outputs": [],
   "source": [
    "cmap = palettable.cmocean.sequential.Haline_20.mpl_colormap\n",
    "plot_section(ds, varname=\"SALINITY\", cmap=cmap, vmin=33.5, vmax=37)"
   ]
  },
  {
   "cell_type": "code",
   "execution_count": null,
   "metadata": {},
   "outputs": [],
   "source": [
    "cmap = palettable.cmocean.sequential.Dense_20.mpl_colormap\n",
    "plot_section(ds, varname=\"SIG0\", cmap=cmap)"
   ]
  }
 ],
 "metadata": {
  "kernelspec": {
   "display_name": "Python 3 (ipykernel)",
   "language": "python",
   "name": "python3"
  },
  "language_info": {
   "codemirror_mode": {
    "name": "ipython",
    "version": 3
   },
   "file_extension": ".py",
   "mimetype": "text/x-python",
   "name": "python",
   "nbconvert_exporter": "python",
   "pygments_lexer": "ipython3",
   "version": "3.11.0"
  }
 },
 "nbformat": 4,
 "nbformat_minor": 2
}
