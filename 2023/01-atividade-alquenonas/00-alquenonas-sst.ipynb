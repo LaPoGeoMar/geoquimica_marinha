{
 "cells": [
  {
   "cell_type": "markdown",
   "id": "5e21896b",
   "metadata": {},
   "source": [
    "# Gabarito\n",
    "\n",
    "## Aula 01: Alquenonas\n",
    "\n",
    "Objetivos:\n",
    "1. Ler os dados do https://doi.pangaea.de/10.1594/PANGAEA.897888?format=html#lcol4_ds13585706\n",
    "1. Calcular SST de acordo com Equação 1, página 47, artigo https://doi.org/10.1016/j.orggeochem.2018.10.009\n",
    "1. Gráfico de barra SST vs Profundidade\n",
    "1. Criar um mapa das estações\n",
    "\n",
    "\n",
    "### 1. Ler os dados usando o pandas\n",
    "\n",
    "Desafio(s):\n",
    "\n",
    "- Formato não usual .tab do pangea\n",
    "- Separado por Tab \n",
    "- Metadados no cabeçalho do arquivo\n",
    "\n",
    "Ferramenta(s):\n",
    "\n",
    "- `pandas`"
   ]
  },
  {
   "cell_type": "code",
   "execution_count": null,
   "id": "31cae24b",
   "metadata": {},
   "outputs": [],
   "source": [
    "import pandas as pd\n",
    "\n",
    "\n",
    "df = pd.read_csv(\n",
    "    \"Habitats_sediments_Alkenone-GDGT-temperature_proxy.tab\",\n",
    "    skiprows=81,\n",
    "    sep=\"\\t\",\n",
    ")\n",
    "\n",
    "\n",
    "df.head()"
   ]
  },
  {
   "cell_type": "markdown",
   "id": "cd2de290",
   "metadata": {},
   "source": [
    "### 2. Calcular SST"
   ]
  },
  {
   "cell_type": "code",
   "execution_count": null,
   "id": "7722695e",
   "metadata": {},
   "outputs": [],
   "source": [
    "df[\"SST\"] = (df[\"UK\\'37\"] - 0.069) / 0.033"
   ]
  },
  {
   "cell_type": "markdown",
   "id": "25672878",
   "metadata": {},
   "source": [
    "### 3. Gráfico de barra SST vs Estação\n",
    "\n",
    "Desafio(s):\n",
    "\n",
    "- Usar a API orientada a objetos do matplotlib em conjunto com o pandas\n",
    "\n",
    "Ferramenta(s):\n",
    "\n",
    "- [`matplotlib`](https://matplotlib.org/stable/gallery/index.html)"
   ]
  },
  {
   "cell_type": "code",
   "execution_count": null,
   "id": "7181543f",
   "metadata": {},
   "outputs": [],
   "source": [
    "import matplotlib.pyplot as plt\n",
    "\n",
    "fig, ax = plt.subplots(figsize=(15, 3))\n",
    "\n",
    "df.plot(ax=ax, kind=\"bar\", x=\"Event\", y=\"SST\");"
   ]
  },
  {
   "cell_type": "markdown",
   "id": "a4712b16",
   "metadata": {},
   "source": [
    "### 4. Criar um mapa das estações"
   ]
  },
  {
   "cell_type": "markdown",
   "id": "1057d09f",
   "metadata": {},
   "source": [
    "Próximo notebook ..."
   ]
  }
 ],
 "metadata": {
  "kernelspec": {
   "display_name": "Python 3 (ipykernel)",
   "language": "python",
   "name": "python3"
  },
  "language_info": {
   "codemirror_mode": {
    "name": "ipython",
    "version": 3
   },
   "file_extension": ".py",
   "mimetype": "text/x-python",
   "name": "python",
   "nbconvert_exporter": "python",
   "pygments_lexer": "ipython3",
   "version": "3.11.0"
  }
 },
 "nbformat": 4,
 "nbformat_minor": 5
}
