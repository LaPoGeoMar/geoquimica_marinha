{
 "cells": [
  {
   "cell_type": "code",
   "execution_count": null,
   "id": "a06dd85d",
   "metadata": {
    "scrolled": false
   },
   "outputs": [],
   "source": [
    "import pandas as pd\n",
    "from pangaeapy.pandataset import PanDataSet\n",
    "\n",
    "pds = PanDataSet(897888)\n",
    "\n",
    "header = {}\n",
    "for k, event in enumerate(pds.events):\n",
    "    header.update(\n",
    "        {\n",
    "            k: {\n",
    "                \"longitude\": event.longitude,\n",
    "                \"latitude\": event.latitude,\n",
    "                \"elevation\": event.elevation,\n",
    "                \"event\": event.label,\n",
    "            },\n",
    "        },\n",
    "    )\n",
    "\n",
    "df = pds.data\n",
    "pdf = pd.DataFrame.from_dict(header).T"
   ]
  },
  {
   "cell_type": "code",
   "execution_count": null,
   "id": "8c898458",
   "metadata": {},
   "outputs": [],
   "source": [
    "cabo_frio = [\n",
    "    \"HAB_A01\",\n",
    "    \"HAB_A02\",\n",
    "    \"HAB_A03\",\n",
    "    \"HAB_A04\",\n",
    "    \"HAB_B1\",\n",
    "    \"HAB_B2\",\n",
    "]\n",
    "\n",
    "\n",
    "pdf = pdf[~pdf[\"event\"].isin(cabo_frio)]\n",
    "df = df[~df[\"Event\"].isin(cabo_frio)]"
   ]
  },
  {
   "cell_type": "code",
   "execution_count": null,
   "id": "f10a179e",
   "metadata": {},
   "outputs": [],
   "source": [
    "bbox = (\n",
    "    pdf[\"longitude\"].min(),\n",
    "    pdf[\"longitude\"].max(),\n",
    "    pdf[\"latitude\"].min(),\n",
    "    pdf[\"latitude\"].max(),\n",
    ")"
   ]
  },
  {
   "cell_type": "code",
   "execution_count": null,
   "id": "83354155",
   "metadata": {},
   "outputs": [],
   "source": [
    "from oceans.datasets import woa_subset\n",
    "\n",
    "ds = woa_subset(*bbox, variable=\"temperature\", time_period=\"annual\", resolution=\"1/4\")\n",
    "\n",
    "ds = ds.sel(depth=0)"
   ]
  },
  {
   "cell_type": "code",
   "execution_count": null,
   "id": "725a8a62",
   "metadata": {},
   "outputs": [],
   "source": [
    "%%time\n",
    "\n",
    "ds.compute()"
   ]
  },
  {
   "cell_type": "code",
   "execution_count": null,
   "id": "010b3d86",
   "metadata": {},
   "outputs": [],
   "source": [
    "woa = {}\n",
    "\n",
    "for k, row in pdf.iterrows():\n",
    "    tmp = ds.sel(\n",
    "        {\"lon\": row[\"longitude\"], \"lat\": row[\"latitude\"]},\n",
    "        method=\"nearest\",\n",
    "    )\n",
    "\n",
    "    woa.update(\n",
    "        {\n",
    "            row[\"event\"]: {\n",
    "                \"tmp\": tmp[\"t_mn\"].to_numpy().squeeze(),\n",
    "                \"lon\": tmp[\"lon\"].to_numpy(),\n",
    "                \"lat\": tmp[\"lat\"].to_numpy(),\n",
    "                \"lon_obs\": row[\"longitude\"],\n",
    "                \"lat_obs\": row[\"latitude\"],\n",
    "            }\n",
    "        }\n",
    "    )"
   ]
  },
  {
   "cell_type": "code",
   "execution_count": null,
   "id": "52166eee",
   "metadata": {},
   "outputs": [],
   "source": [
    "import seawater as sw\n",
    "\n",
    "w = pd.DataFrame(woa).T\n",
    "\n",
    "lats = list(zip(w[\"lat\"], w[\"lat_obs\"]))\n",
    "lons = list(zip(w[\"lon\"], w[\"lon_obs\"]))\n",
    "dists = [sw.dist(*location)[0][0] for location in zip(lats, lons)]\n",
    "w[\"dist\"] = dists"
   ]
  },
  {
   "cell_type": "code",
   "execution_count": null,
   "id": "893dba82",
   "metadata": {},
   "outputs": [],
   "source": [
    "pd.concat([df[[\"SST (1-12)\", \"Event\"]].reset_index(), w.reset_index()], axis=1)"
   ]
  }
 ],
 "metadata": {
  "kernelspec": {
   "display_name": "Python 3 (ipykernel)",
   "language": "python",
   "name": "python3"
  },
  "language_info": {
   "codemirror_mode": {
    "name": "ipython",
    "version": 3
   },
   "file_extension": ".py",
   "mimetype": "text/x-python",
   "name": "python",
   "nbconvert_exporter": "python",
   "pygments_lexer": "ipython3",
   "version": "3.10.10"
  }
 },
 "nbformat": 4,
 "nbformat_minor": 5
}
