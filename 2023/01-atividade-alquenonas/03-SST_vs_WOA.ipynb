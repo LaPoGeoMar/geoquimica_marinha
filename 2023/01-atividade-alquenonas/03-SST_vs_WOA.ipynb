{
 "cells": [
  {
   "cell_type": "code",
   "execution_count": null,
   "id": "a06dd85d",
   "metadata": {
    "scrolled": false
   },
   "outputs": [],
   "source": [
    "import pandas as pd\n",
    "\n",
    "\n",
    "df = pd.read_csv(\"stations.csv\")  # <- criando no notebook 01-alquenonas-sst (mapa)\n",
    "df.head()"
   ]
  },
  {
   "cell_type": "code",
   "execution_count": null,
   "id": "8c898458",
   "metadata": {},
   "outputs": [],
   "source": [
    "cabo_frio = [\n",
    "    \"HAB_A01\",\n",
    "    \"HAB_A02\",\n",
    "    \"HAB_A03\",\n",
    "    \"HAB_A04\",\n",
    "    \"HAB_B1\",\n",
    "    \"HAB_B2\",\n",
    "]\n",
    "\n",
    "\n",
    "df = df[~df[\"Event\"].isin(cabo_frio)]"
   ]
  },
  {
   "cell_type": "code",
   "execution_count": null,
   "id": "f10a179e",
   "metadata": {},
   "outputs": [],
   "source": [
    "bbox = (\n",
    "    df[\"LONGITUDE\"].min(), df[\"LONGITUDE\"].max(),\n",
    "    df[\"LATITUDE\"].min(), df[\"LATITUDE\"].max()\n",
    ")"
   ]
  },
  {
   "cell_type": "code",
   "execution_count": null,
   "id": "83354155",
   "metadata": {},
   "outputs": [],
   "source": [
    "from oceans.datasets import woa_subset\n",
    "\n",
    "\n",
    "ds = woa_subset(\n",
    "    *bbox,\n",
    "    variable=\"temperature\",\n",
    "    time_period=\"annual\",\n",
    "    resolution=\"1/4\"\n",
    ")\n",
    "\n",
    "ds = ds.sel(depth=0)"
   ]
  },
  {
   "cell_type": "code",
   "execution_count": null,
   "id": "725a8a62",
   "metadata": {},
   "outputs": [],
   "source": [
    "%%time\n",
    "\n",
    "ds.compute()"
   ]
  },
  {
   "cell_type": "code",
   "execution_count": null,
   "id": "010b3d86",
   "metadata": {},
   "outputs": [],
   "source": [
    "woa = {}\n",
    "\n",
    "for k, row in df.iterrows():\n",
    "    tmp = ds.sel(\n",
    "        {\n",
    "            \"lon\": row[\"LONGITUDE\"],\n",
    "            \"lat\": row[\"LATITUDE\"]\n",
    "        },\n",
    "        method=\"nearest\",\n",
    ")\n",
    "    \n",
    "    woa.update(\n",
    "        {\n",
    "            row[\"Event\"]:\n",
    "            {\n",
    "                \"tmp\": tmp[\"t_mn\"].to_numpy().squeeze(),\n",
    "                \"lon\": tmp[\"lon\"].to_numpy(),\n",
    "                \"lat\": tmp[\"lat\"].to_numpy(),\n",
    "                \"lon_obs\": row[\"LONGITUDE\"],\n",
    "                \"lat_obs\": row[\"LATITUDE\"],\n",
    "            }\n",
    "        }\n",
    "    )"
   ]
  },
  {
   "cell_type": "code",
   "execution_count": null,
   "id": "52166eee",
   "metadata": {},
   "outputs": [],
   "source": [
    "import seawater as sw\n",
    "\n",
    "\n",
    "w = pd.DataFrame(woa).T\n",
    "\n",
    "lats = list(zip(w[\"lat\"], w[\"lat_obs\"]))\n",
    "lons = list(zip(w[\"lon\"], w[\"lon_obs\"]))\n",
    "dists = [sw.dist(*location)[0] for location in zip(lats, lons)]"
   ]
  },
  {
   "cell_type": "code",
   "execution_count": null,
   "id": "d7e5144d",
   "metadata": {},
   "outputs": [],
   "source": [
    "import pandas as pd\n",
    "\n",
    "\n",
    "df = pd.read_csv(\n",
    "    \"Habitats_sediments_Alkenone-GDGT-temperature_proxy.tab\",\n",
    "    skiprows=81,\n",
    "    sep=\"\\t\",\n",
    ")\n",
    "\n",
    "\n",
    "df.head(5)"
   ]
  },
  {
   "cell_type": "code",
   "execution_count": null,
   "id": "893dba82",
   "metadata": {},
   "outputs": [],
   "source": [
    "pd.concat([df[[\"SST (1-12) [°C]\", \"Event\"]], w.reset_index()], axis=1)"
   ]
  }
 ],
 "metadata": {
  "kernelspec": {
   "display_name": "Python 3 (ipykernel)",
   "language": "python",
   "name": "python3"
  },
  "language_info": {
   "codemirror_mode": {
    "name": "ipython",
    "version": 3
   },
   "file_extension": ".py",
   "mimetype": "text/x-python",
   "name": "python",
   "nbconvert_exporter": "python",
   "pygments_lexer": "ipython3",
   "version": "3.10.9"
  }
 },
 "nbformat": 4,
 "nbformat_minor": 5
}
