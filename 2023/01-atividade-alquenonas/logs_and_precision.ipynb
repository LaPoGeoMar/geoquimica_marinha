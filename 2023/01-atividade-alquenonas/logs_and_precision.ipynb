{
 "cells": [
  {
   "cell_type": "code",
   "execution_count": null,
   "id": "fdd31152",
   "metadata": {},
   "outputs": [],
   "source": [
    "import numpy as np\n",
    "\n",
    "np.log10(100)  # 10**2"
   ]
  },
  {
   "cell_type": "code",
   "execution_count": null,
   "id": "e83ecb70",
   "metadata": {},
   "outputs": [],
   "source": [
    "np.log10(1000)  # 10**3"
   ]
  },
  {
   "cell_type": "code",
   "execution_count": null,
   "id": "0f4b65bf",
   "metadata": {},
   "outputs": [],
   "source": [
    "np.log10(42)  # 10**1.6232492903979006"
   ]
  },
  {
   "cell_type": "code",
   "execution_count": null,
   "id": "d3a8d7bc",
   "metadata": {},
   "outputs": [],
   "source": [
    "10 ** (1.6)"
   ]
  },
  {
   "cell_type": "code",
   "execution_count": null,
   "id": "f7784065",
   "metadata": {},
   "outputs": [],
   "source": [
    "import matplotlib.pyplot as plt\n",
    "\n",
    "arr = np.arange(1, 1e3, 0.001)\n",
    "\n",
    "plt.plot(arr, np.log(arr));"
   ]
  },
  {
   "cell_type": "markdown",
   "id": "ff1a5764",
   "metadata": {},
   "source": [
    "# Teste com dados na ordem de grandeza esperada"
   ]
  },
  {
   "cell_type": "code",
   "execution_count": null,
   "id": "09080ea5",
   "metadata": {},
   "outputs": [],
   "source": [
    "# 0.454545 Nosso valor com GDGT da tabela\n",
    "# 0.5 Tabela\n",
    "\n",
    "\n",
    "38.6 + (68.4 * np.log10(0.4969))  # 17.82"
   ]
  },
  {
   "cell_type": "code",
   "execution_count": null,
   "id": "8ae88046",
   "metadata": {},
   "outputs": [],
   "source": [
    "arr = np.arange(0.45, 0.5, 0.00001)\n",
    "temps = 38.6 + (68.4 * np.log10(arr))  # 17.82\n",
    "\n",
    "\n",
    "fig, ax = plt.subplots()\n",
    "ax.plot(arr, temps)\n",
    "ax.axhline(y=17.82, color=\"red\")"
   ]
  },
  {
   "cell_type": "code",
   "execution_count": null,
   "id": "0a571ba6",
   "metadata": {},
   "outputs": [],
   "source": [
    "from IPython.display import YouTubeVideo\n",
    "\n",
    "YouTubeVideo(\"VRzH4xB0GdM\")"
   ]
  }
 ],
 "metadata": {
  "kernelspec": {
   "display_name": "Python 3 (ipykernel)",
   "language": "python",
   "name": "python3"
  },
  "language_info": {
   "codemirror_mode": {
    "name": "ipython",
    "version": 3
   },
   "file_extension": ".py",
   "mimetype": "text/x-python",
   "name": "python",
   "nbconvert_exporter": "python",
   "pygments_lexer": "ipython3",
   "version": "3.10.10"
  }
 },
 "nbformat": 4,
 "nbformat_minor": 5
}
