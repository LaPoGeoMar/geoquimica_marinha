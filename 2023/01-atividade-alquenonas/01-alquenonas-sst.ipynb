{
 "cells": [
  {
   "cell_type": "markdown",
   "id": "cfa2d6fa",
   "metadata": {},
   "source": [
    "### 4. Criar um mapa das estações\n",
    "\n",
    "\n",
    "Desafio(s):\n",
    "\n",
    "- ler (parse) o cabeçalho para extrair os metadados em forma de tabela\n",
    "\n",
    "Ferramenta(s):\n",
    "\n",
    "- `open`, `for-loops`, `dictionary comprehension`\n",
    "- [`cartopy`](https://scitools.org.uk/cartopy/docs/latest/gallery/index.html)"
   ]
  },
  {
   "cell_type": "code",
   "execution_count": null,
   "id": "a06dd85d",
   "metadata": {},
   "outputs": [],
   "source": [
    "import pandas as pd\n",
    "\n",
    "\n",
    "def parse_header(fname, start, end):\n",
    "    copy = False\n",
    "\n",
    "    with open(fname) as f:\n",
    "        for line in f.readlines():\n",
    "            line = line.strip()\n",
    "            if start in line:\n",
    "                bucket = [line.strip(start).strip()]\n",
    "                copy = True\n",
    "            elif end in line:\n",
    "                copy = False\n",
    "            elif copy:\n",
    "                bucket.append(line)\n",
    "    dic = {\n",
    "        line.split(\"*\")[0].strip(): {\n",
    "            entry.split(\":\")[0].strip(): entry.split(\":\")[1].strip()\n",
    "            for entry in line.split(\"*\")[1:]\n",
    "        }\n",
    "        for line in bucket\n",
    "    }\n",
    "\n",
    "    return pd.DataFrame.from_dict(dic).T"
   ]
  },
  {
   "cell_type": "code",
   "execution_count": null,
   "id": "a5746dd2",
   "metadata": {},
   "outputs": [],
   "source": [
    "fname = \"Habitats_sediments_Alkenone-GDGT-temperature_proxy.tab\"\n",
    "start = \"Event(s):\"\n",
    "end = \"Parameter(s):\"\n",
    "\n",
    "df = parse_header(fname, start, end)\n",
    "\n",
    "df.head()"
   ]
  },
  {
   "cell_type": "code",
   "execution_count": null,
   "id": "288fd307",
   "metadata": {},
   "outputs": [],
   "source": [
    "df.dtypes"
   ]
  },
  {
   "cell_type": "code",
   "execution_count": null,
   "id": "08726ef9",
   "metadata": {},
   "outputs": [],
   "source": [
    "df[\"LATITUDE\"] = pd.to_numeric(df[\"LATITUDE\"])\n",
    "df[\"LONGITUDE\"] = pd.to_numeric(df[\"LONGITUDE\"])\n",
    "df[\"ELEVATION\"] = pd.to_numeric(df[\"ELEVATION\"].str.strip(\"m\"))\n",
    "df.dtypes"
   ]
  },
  {
   "cell_type": "code",
   "execution_count": null,
   "id": "e883f346",
   "metadata": {
    "scrolled": false
   },
   "outputs": [],
   "source": [
    "import matplotlib.pyplot as plt\n",
    "import cartopy.crs as ccrs\n",
    "from cartopy.feature import NaturalEarthFeature\n",
    "from oceans.datasets import etopo_subset\n",
    "\n",
    "\n",
    "# Bounding box with some spacing to spare.\n",
    "dx = dy = 1.5\n",
    "bbox = df[\"LONGITUDE\"].min()-dx, df[\"LONGITUDE\"].max()+dx, df[\"LATITUDE\"].min()-dy, df[\"LATITUDE\"].max()+dy\n",
    "\n",
    "\n",
    "# Coastline\n",
    "feature = NaturalEarthFeature(\n",
    "    name=\"coastline\",\n",
    "    category=\"physical\",\n",
    "    scale=\"10m\",\n",
    "    edgecolor=\"#000000\",\n",
    "    facecolor=\"#AAAAAA\"\n",
    ")\n",
    "\n",
    "# Bathymetry\n",
    "x, y, topo = etopo_subset(*bbox, smoo=True)\n",
    "levels = [-3000, -2000, -1000, -500, -150, -100, -25]\n",
    "\n",
    "# Figure\n",
    "fig, ax = plt.subplots(\n",
    "    figsize=(9, 9),\n",
    "    subplot_kw={\n",
    "        \"projection\": ccrs.PlateCarree(),\n",
    "    }\n",
    ")\n",
    "ax.set_extent(bbox)\n",
    "\n",
    "ax.add_feature(feature, zorder=0)\n",
    "ax.scatter(df[\"LONGITUDE\"], df[\"LATITUDE\"], facecolor=\"none\", edgecolor=\"black\", zorder=1)\n",
    "\n",
    "def fmt(x):\n",
    "    s = f\"{x:.1f}\"\n",
    "    return rf\"{s} m\"\n",
    "\n",
    "manual = [(-43, -23), (-43, -23.2), (-43, -23.8), (-42.9, -24), (-42.6, -24.4), (-42.5, -25), (-40.5, -25)]\n",
    "cs = ax.contour(x, y, topo, levels=levels, colors=\"black\", alpha=0.25, zorder=0, linestyles=\"-\")\n",
    "ax.clabel(cs, cs.levels, inline=True, fmt=fmt, fontsize=10, manual=manual)\n",
    "\n",
    "gl = ax.gridlines(draw_labels=True)\n",
    "gl.top_labels = gl.right_labels = False\n",
    "gl.xlines = gl.ylines = False"
   ]
  }
 ],
 "metadata": {
  "kernelspec": {
   "display_name": "Python 3 (ipykernel)",
   "language": "python",
   "name": "python3"
  },
  "language_info": {
   "codemirror_mode": {
    "name": "ipython",
    "version": 3
   },
   "file_extension": ".py",
   "mimetype": "text/x-python",
   "name": "python",
   "nbconvert_exporter": "python",
   "pygments_lexer": "ipython3",
   "version": "3.11.0"
  }
 },
 "nbformat": 4,
 "nbformat_minor": 5
}
